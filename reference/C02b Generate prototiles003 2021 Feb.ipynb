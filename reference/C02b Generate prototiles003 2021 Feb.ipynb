{
 "cells": [
  {
   "cell_type": "code",
   "execution_count": null,
   "metadata": {},
   "outputs": [],
   "source": [
    "####################################################################################################\n",
    "####################################################################################################\n",
    "# Can we delete everything above this?\n",
    "#\n",
    "#"
   ]
  },
  {
   "cell_type": "markdown",
   "metadata": {},
   "source": [
    "Generate prototiles\n",
    "-------------------\n",
    "\n",
    "master.bin from pre-2021 is located at hal15:uwsgi/dotmaptiles-data/data-visualization-tools/examples/lodes/prototiles002\n",
    "\n",
    "tileserve.py:max_prototile_level is hardcoded to 10, and prototile_subsamples array is also hardcoded, but only used for PNG output (which itself is no longer used?)\n",
    "\n",
    "If we subsample prototiles less, could we then add our own subsample later?  I think we do that currently for level < 5 in tileserve.py:\n",
    "    if z < 5:\n",
    "        # Further subsample the points\n",
    "        subsample = 2.0 ** ((5.0 - z) / 2.0)  # z=4, subsample=2;  z=3, subsample=4 ...\n",
    "        # We're further subsampling the prototile\n",
    "        prototile_subsample /= subsample\n",
    "        incount = int(incount / subsample)\n",
    "\n"
   ]
  },
  {
   "cell_type": "code",
   "execution_count": null,
   "metadata": {
    "tags": [
     "outputPrepend"
    ]
   },
   "outputs": [],
   "source": [
    "\n",
    "'reload_module' in vars() and reload_module('utils.utils')\n",
    "from utils.utils import *\n",
    "\n",
    "subsamples = {\n",
    "    0: 1/128,\n",
    "    1: 1/64,\n",
    "    2: 1/32,\n",
    "    3: 1/16,\n",
    "    4: 1/8,\n",
    "    5: 1/4,\n",
    "    6: 1/2,\n",
    "    7: 1,\n",
    "    8: 1,\n",
    "    9: 1,\n",
    "    10: 1\n",
    "}\n",
    "\n",
    "# OLD\n",
    "#for level, subsample in subsamples.items():\n",
    "#    make_prototile_zoom(level, subsample)\n",
    "\n",
    "# NEW, using c++ is much faster!\n",
    "\n",
    "prototiledir = \"prototiles003\"\n",
    "open(f\"{prototiledir}/subsamples.json\", 'w').write(json.dumps(subsamples))\n",
    "\n",
    "\n",
    "for (z, subsample) in subsamples.items():\n",
    "    if z >= 11:\n",
    "        print(subprocess_check(f\"./make_prototile_zoom {prototiledir} {z} {subsample}\", verbose=True))\n",
    "\n",
    "\n"
   ]
  }
 ],
 "metadata": {
  "anaconda-cloud": {},
  "kernelspec": {
   "display_name": "Python 3",
   "language": "python",
   "name": "python3"
  }
 },
 "nbformat": 4,
 "nbformat_minor": 4
}
