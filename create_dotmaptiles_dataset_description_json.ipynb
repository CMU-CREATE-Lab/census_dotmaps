{
 "cells": [
  {
   "cell_type": "code",
   "execution_count": null,
   "metadata": {},
   "outputs": [],
   "source": [
    "# See https://api.census.gov/data/2020/dec/ddhca/variables.html for an HTML version of the tables\n",
    "\n",
    "# Need DHC\n",
    "\n"
   ]
  },
  {
   "cell_type": "code",
   "execution_count": null,
   "metadata": {},
   "outputs": [],
   "source": [
    "import json, os, re, requests\n",
    "from collections import defaultdict\n",
    "from census_utils import canonicalize_census_table_name, canonicalize_census_column_name"
   ]
  },
  {
   "cell_type": "code",
   "execution_count": null,
   "metadata": {},
   "outputs": [],
   "source": [
    "dataset_name = \"census2020_block2020\"\n",
    "# TODO: what happens when we get multiple updates beyond just DHC?\n",
    "# Do we loop?  Is there any conflict between them (we do see this already for PL vs DHC)\n",
    "\n",
    "\n",
    "url = \"https://api.census.gov/data/2020/dec/dhc/variables.json\"\n",
    "\n",
    "\n",
    "variables_response = requests.get(url).json()\n",
    "variables = variables_response['variables']\n"
   ]
  },
  {
   "cell_type": "code",
   "execution_count": null,
   "metadata": {},
   "outputs": [],
   "source": [
    "print(f\"{len(variables)} variables before filtering\")\n",
    "\n",
    "tables = defaultdict(list)\n",
    "nvariables = 0\n",
    "for variable, info in variables.items():\n",
    "    groups = re.match(r\"^([A-Z]+\\d+[A-Z]*)_(\\d+[A-Z]*)$\", variable)\n",
    "    if groups:\n",
    "        table, column = groups.groups()\n",
    "        tables[table].append(column)\n",
    "        nvariables += 1\n",
    "\n",
    "print(f\"{nvariables} variables in {len(tables)} tables\")\n",
    "\n",
    "table_descs = []\n",
    "for table_name in sorted(tables.keys()):\n",
    "    table_desc = {\"name\": canonicalize_census_table_name(table_name), \"description\": None, \"columns\": []}\n",
    "    for column_name in sorted(tables[table_name]):\n",
    "        api_info = variables[f\"{table_name}_{column_name}\"]\n",
    "        concept = api_info[\"concept\"]\n",
    "        if table_desc[\"description\"]:\n",
    "            assert table_desc[\"description\"] == concept\n",
    "        else:\n",
    "            table_desc[\"description\"] = concept\n",
    "\n",
    "        reformatted_label = api_info[\"label\"].replace(\":!!\", \" &mdash; \")\n",
    "        reformatted_label = re.sub(r\"^\\s*!!\\s*\", \"\", reformatted_label)\n",
    "        # Remove trailing 'N' from column names\n",
    "        assert column_name[-1:].lower() == 'n'\n",
    "        column_name = column_name[:-1]\n",
    "\n",
    "        table_desc[\"columns\"].append([canonicalize_census_column_name(column_name), reformatted_label])\n",
    "    table_descs.append(table_desc)\n",
    "\n",
    "description_json = {\n",
    "    \"name\": dataset_name,\n",
    "    \"tables\": table_descs,\n",
    "}\n",
    "\n",
    "dest_path = f\"generated_description_jsons/{dataset_name}/description.json\"\n",
    "os.makedirs(os.path.dirname(dest_path), exist_ok=True)\n",
    "json.dump(description_json, open(dest_path, \"w\"), indent=2)\n",
    "print(f\"Created {dest_path}\")"
   ]
  },
  {
   "cell_type": "code",
   "execution_count": null,
   "metadata": {},
   "outputs": [],
   "source": [
    "# Type this in a shell to allow entering password:\n",
    "# rsync -av --keep-dirlinks generated_description_jsons/ hal15.andrew.cmu.edu:uwsgi/dotmaptiles-data/data-visualization-tools/examples/lodes/columncache"
   ]
  },
  {
   "cell_type": "code",
   "execution_count": null,
   "metadata": {},
   "outputs": [],
   "source": []
  }
 ],
 "metadata": {
  "kernelspec": {
   "display_name": ".venv",
   "language": "python",
   "name": "python3"
  },
  "language_info": {
   "codemirror_mode": {
    "name": "ipython",
    "version": 3
   },
   "file_extension": ".py",
   "mimetype": "text/x-python",
   "name": "python",
   "nbconvert_exporter": "python",
   "pygments_lexer": "ipython3",
   "version": "3.11.3"
  }
 },
 "nbformat": 4,
 "nbformat_minor": 2
}
