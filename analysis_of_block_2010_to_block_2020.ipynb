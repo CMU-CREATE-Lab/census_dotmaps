{
 "cells": [
  {
   "attachments": {},
   "cell_type": "markdown",
   "metadata": {},
   "source": [
    "# Analysis of 2010 to 2020 block transformations"
   ]
  },
  {
   "cell_type": "code",
   "execution_count": null,
   "metadata": {},
   "outputs": [],
   "source": [
    "from functools import cache\n",
    "import pandas as pd\n",
    "from psql_utils.epsql import Engine\n",
    "import pandas as pd\n",
    "\n",
    "@cache\n",
    "def engine():\n",
    "    return Engine()"
   ]
  },
  {
   "cell_type": "code",
   "execution_count": null,
   "metadata": {},
   "outputs": [],
   "source": [
    "crosswalk_blk2010_blk2020_table = \"nhgis_geo_wgs84.crosswalk_blk2010_blk2020\"\n",
    "c2010_2020 = pd.read_csv(\"nhgis_blk2010_blk2020_ge/nhgis_blk2010_blk2020_ge.csv\", dtype={\"GEOID10\":str, \"GEOID20\":str})\n"
   ]
  },
  {
   "cell_type": "code",
   "execution_count": null,
   "metadata": {},
   "outputs": [],
   "source": [
    "cnonzero2010_2020 = c2010_2020[c2010_2020[\"WEIGHT\"] > 0]"
   ]
  },
  {
   "cell_type": "code",
   "execution_count": null,
   "metadata": {},
   "outputs": [],
   "source": [
    "blocks2010 = c2010_2020[\"GEOID10\"].unique()\n",
    "blocks2020 = c2010_2020[\"GEOID20\"].unique()\n",
    "print(\"Number of blocks in 2010: \", len(blocks2010))\n",
    "print(\"Number of blocks in 2020: \", len(blocks2020))\n",
    "print(\"Length of crosswalk:\", len(c2010_2020))\n",
    "print(\"Length of nonzerocrosswalk:\", len(cnonzero2010_2020))"
   ]
  },
  {
   "cell_type": "code",
   "execution_count": null,
   "metadata": {},
   "outputs": [],
   "source": [
    "c2010_2020[c2010_2020[\"GEOID10\"].str.endswith(\"99\")]"
   ]
  },
  {
   "cell_type": "code",
   "execution_count": null,
   "metadata": {},
   "outputs": [],
   "source": [
    "c2010_2020[c2010_2020[\"GEOID20\"].str.endswith(\"99\")]"
   ]
  },
  {
   "cell_type": "code",
   "execution_count": null,
   "metadata": {},
   "outputs": [],
   "source": [
    "gdf = engine().execute_returning_gdf(\"select * from tiger_wgs84.tl_2020_tabblock20 where geoid20 between '42003' and '42003z'\")\n",
    "gdf.explore()"
   ]
  },
  {
   "cell_type": "code",
   "execution_count": null,
   "metadata": {},
   "outputs": [],
   "source": [
    "waterq.explore()"
   ]
  },
  {
   "attachments": {},
   "cell_type": "markdown",
   "metadata": {},
   "source": [
    "### Questions:\n",
    "* How many blocks from 2010 map identically to 2020?\n",
    "* How many blocks from 2010 map to multiple 2020 blocks?\n",
    "* How many blocks from 2020 map to multiple 2010 blocks?"
   ]
  },
  {
   "cell_type": "code",
   "execution_count": null,
   "metadata": {},
   "outputs": [],
   "source": [
    "# How many blocks from 2010 are split among multiple blocks in 2020?\n",
    "\n",
    "blocks_not_split_2010_to_2020 = c2010_2020[c2010_2020['WEIGHT'] == 1.0]\n",
    "assert blocks_not_split_2010_to_2020[\"GEOID10\"].is_unique\n",
    "assert not blocks_not_split_2010_to_2020[\"GEOID20\"].is_unique\n",
    "print(f\"2010 blocks represented in a single 2020 block: {len(blocks_not_split_2010_to_2020):,} ({len(blocks_not_split_2010_to_2020)/len(blocks2010):.1%})\")\n",
    "print(f\"2010 blocks represented in multiple 2020 blocks: {len(blocks2010) - len(blocks_not_split_2010_to_2020):,} ({(len(blocks2010) - len(blocks_not_split_2010_to_2020))/len(blocks2010):.1%})\")"
   ]
  },
  {
   "cell_type": "code",
   "execution_count": null,
   "metadata": {},
   "outputs": [],
   "source": [
    "duplicate_2010_blocks = cnonzero2010_2020[\"GEOID10\"][cnonzero2010_2020[\"GEOID10\"].duplicated(keep=False)].unique()\n",
    "print(f\"2010 blocks represented in multiple 2020 blocks (alt): {len(duplicate_2010_blocks):,}\")\n"
   ]
  },
  {
   "cell_type": "code",
   "execution_count": null,
   "metadata": {},
   "outputs": [],
   "source": [
    "duplicate_2020_blocks = cnonzero2010_2020[\"GEOID20\"][cnonzero2010_2020[\"GEOID20\"].duplicated(keep=False)].unique()\n",
    "print(f\"2020 blocks represented in multiple 2010 blocks (alt): {len(duplicate_2020_blocks):,}\")"
   ]
  },
  {
   "cell_type": "code",
   "execution_count": null,
   "metadata": {},
   "outputs": [],
   "source": [
    "duplicate_2010_blocks[duplicate_2010_blocks[\"WEIGHT\"] == 0.0]"
   ]
  },
  {
   "cell_type": "code",
   "execution_count": null,
   "metadata": {},
   "outputs": [],
   "source": [
    "single_2010_blocks = c2010_2020[~c2010_2020[\"GEOID10\"].duplicated(keep=False)]\n",
    "print(single_2010_blocks['WEIGHT'].value_counts())\n",
    "single_2010_geoids = set(single_2010_blocks[\"GEOID10\"])\n",
    "print(len(single_2010_geoids))"
   ]
  },
  {
   "cell_type": "code",
   "execution_count": null,
   "metadata": {},
   "outputs": [],
   "source": [
    "blocks_not_split_2010_to_2020 = c2010_2020[c2010_2020['WEIGHT'] == 1.0]\n",
    "len(blocks_not_split_2010_to_2020)"
   ]
  },
  {
   "cell_type": "code",
   "execution_count": null,
   "metadata": {},
   "outputs": [],
   "source": []
  },
  {
   "cell_type": "code",
   "execution_count": null,
   "metadata": {},
   "outputs": [],
   "source": [
    "len(duplicate_2010_blocks[\"GEOID10\"].unique())"
   ]
  },
  {
   "cell_type": "code",
   "execution_count": null,
   "metadata": {},
   "outputs": [],
   "source": []
  }
 ],
 "metadata": {
  "kernelspec": {
   "display_name": ".venv",
   "language": "python",
   "name": "python3"
  },
  "language_info": {
   "codemirror_mode": {
    "name": "ipython",
    "version": 3
   },
   "file_extension": ".py",
   "mimetype": "text/x-python",
   "name": "python",
   "nbconvert_exporter": "python",
   "pygments_lexer": "ipython3",
   "version": "3.11.3"
  }
 },
 "nbformat": 4,
 "nbformat_minor": 2
}
