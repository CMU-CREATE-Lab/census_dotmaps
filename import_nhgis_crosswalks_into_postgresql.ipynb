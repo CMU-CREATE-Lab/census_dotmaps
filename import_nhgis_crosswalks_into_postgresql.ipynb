{
 "cells": [
  {
   "cell_type": "code",
   "execution_count": null,
   "metadata": {},
   "outputs": [],
   "source": [
    "from functools import cache\n",
    "from psql_utils.epsql import Engine\n",
    "import pandas as pd\n",
    "\n",
    "@cache\n",
    "def engine():\n",
    "    return Engine()"
   ]
  },
  {
   "cell_type": "code",
   "execution_count": null,
   "metadata": {},
   "outputs": [],
   "source": [
    "crosswalk_blk2010_blk2020_table = \"nhgis_geo_wgs84.crosswalk_blk2010_blk2020\"\n",
    "if not engine().table_exists(crosswalk_blk2010_blk2020_table):\n",
    "    print(\"Creating {crosswalk_blk2010_blk2020_table} table...\")\n",
    "    crosswalk_blk2010_blk2020 = pd.read_csv(\"nhgis_blk2010_blk2020_ge/nhgis_blk2010_blk2020_ge.csv\", dtype={\"GEOID10\":str, \"GEOID20\":str})\n",
    "    print(f\"Crosswalk has {len(crosswalk_blk2010_blk2020)/1e6:.3f}M rows\")\n",
    "    crosswalk_blk2010_blk2020.to_sql(crosswalk_blk2010_blk2020_table, engine().engine, if_exists=\"replace\", index=False)"
   ]
  }
 ],
 "metadata": {
  "kernelspec": {
   "display_name": ".venv",
   "language": "python",
   "name": "python3"
  },
  "language_info": {
   "name": "python",
   "version": "3.11.3"
  }
 },
 "nbformat": 4,
 "nbformat_minor": 2
}
